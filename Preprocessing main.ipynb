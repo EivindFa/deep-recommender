{
 "cells": [
  {
   "cell_type": "markdown",
   "id": "global-controversy",
   "metadata": {},
   "source": [
    "# The main preprocessing notebook\n",
    "Uses content_refine (the big one) for articles and /addressa_data/one_week_3/20170106 for user behaviors. Modify the utils.preprocessing.py script to fetch more user behaviors. However, fetching more user behaviors may take hours. <br> \n",
    "\n",
    "Some important notes for user behaviors: <br>\n",
    "* We remove all behaviors where the user appear 3 times or less\n",
    "* Metadata is removed\n",
    "\n",
    "Another important note is that lots of the articles in user-behaviors does not exist in the articles-df. I do not remove these however, because my algorithm uses up to an hour to finish. \n",
    "The algorithm: <br>\n",
    "```\n",
    "df_2.shape\n",
    "empty_indices = []\n",
    "for index, row in tqdm(df_2.iterrows()):\n",
    "    article_id = row[\"id\"] # the clicked article id\n",
    "    article_df = df[df[\"article_id\"] == article_id]\n",
    "    if article_df.empty:\n",
    "        empty_indices.append(index)\n",
    "df_2.drop(empty_indices)\n",
    "df_2.shape\n",
    "````\n"
   ]
  },
  {
   "cell_type": "code",
   "execution_count": 1,
   "id": "indoor-newspaper",
   "metadata": {},
   "outputs": [
    {
     "name": "stderr",
     "output_type": "stream",
     "text": [
      "[nltk_data] Downloading package stopwords to\n",
      "[nltk_data]     /Users/eivindfalun/nltk_data...\n",
      "[nltk_data]   Package stopwords is already up-to-date!\n"
     ]
    }
   ],
   "source": [
    "import pandas as pd\n",
    "import numpy as np\n",
    "from utils.preprocessing import get_articles, get_user_behaviors\n",
    "from tqdm import tqdm\n",
    "import pickle"
   ]
  },
  {
   "cell_type": "code",
   "execution_count": 2,
   "id": "specialized-politics",
   "metadata": {},
   "outputs": [
    {
     "name": "stdout",
     "output_type": "stream",
     "text": [
      "1.2.3\n"
     ]
    }
   ],
   "source": [
    "print(pd.__version__)"
   ]
  },
  {
   "cell_type": "code",
   "execution_count": 3,
   "id": "direct-footwear",
   "metadata": {},
   "outputs": [
    {
     "name": "stdout",
     "output_type": "stream",
     "text": [
      "Get articles\n",
      ">>> ./addressa_data/content_refine\n",
      "---------- Loads data ----------\n"
     ]
    },
    {
     "name": "stderr",
     "output_type": "stream",
     "text": [
      "920it [00:00, 4688.79it/s]"
     ]
    },
    {
     "name": "stdout",
     "output_type": "stream",
     "text": [
      "Preprocess body\n"
     ]
    },
    {
     "name": "stderr",
     "output_type": "stream",
     "text": [
      "74886it [00:12, 5835.51it/s]\n"
     ]
    },
    {
     "name": "stdout",
     "output_type": "stream",
     "text": [
      "--------- preprocess title -----------\n",
      "Preprocess article title\n",
      "--------- preprocess category ------------\n"
     ]
    }
   ],
   "source": [
    "df, unique_categories = get_articles()\n"
   ]
  },
  {
   "cell_type": "code",
   "execution_count": 4,
   "id": "banned-bumper",
   "metadata": {},
   "outputs": [
    {
     "name": "stderr",
     "output_type": "stream",
     "text": [
      "4072it [00:00, 40708.97it/s]"
     ]
    },
    {
     "name": "stdout",
     "output_type": "stream",
     "text": [
      "----------- Fetch user data -----------\n",
      " This will take a couple of minutes...\n",
      "Fetch data from: ./addressa_data/one_week_3/20170101\n"
     ]
    },
    {
     "name": "stderr",
     "output_type": "stream",
     "text": [
      "1513739it [02:25, 10394.73it/s]\n"
     ]
    },
    {
     "name": "stdout",
     "output_type": "stream",
     "text": [
      "---------- Done fetching data -----------\n",
      "Remove metadata such as os, country etc\n"
     ]
    },
    {
     "name": "stderr",
     "output_type": "stream",
     "text": [
      "/Users/eivindfalun/opt/anaconda3/envs/dnnrs/lib/python3.7/site-packages/pandas/core/frame.py:4315: SettingWithCopyWarning: \n",
      "A value is trying to be set on a copy of a slice from a DataFrame\n",
      "\n",
      "See the caveats in the documentation: https://pandas.pydata.org/pandas-docs/stable/user_guide/indexing.html#returning-a-view-versus-a-copy\n",
      "  errors=errors,\n"
     ]
    },
    {
     "name": "stdout",
     "output_type": "stream",
     "text": [
      "----------- Preprocess user data -----------\n",
      "Number of unique users before removal:  164365\n",
      "Number of unique articles before removal 4641\n",
      "Number of unique users after removal:  36391\n",
      "Number of unique articles the users have read after removal 1653\n"
     ]
    }
   ],
   "source": [
    "df_2 = get_user_behaviors()"
   ]
  },
  {
   "cell_type": "code",
   "execution_count": 5,
   "id": "violent-laundry",
   "metadata": {},
   "outputs": [
    {
     "name": "stderr",
     "output_type": "stream",
     "text": [
      "\r",
      "0it [00:00, ?it/s]"
     ]
    },
    {
     "name": "stdout",
     "output_type": "stream",
     "text": [
      "(242916, 8)\n"
     ]
    },
    {
     "name": "stderr",
     "output_type": "stream",
     "text": [
      "242916it [1:35:56, 42.20it/s] \n"
     ]
    },
    {
     "name": "stdout",
     "output_type": "stream",
     "text": [
      "(242916, 8)\n"
     ]
    }
   ],
   "source": [
    "print(df_2.shape)\n",
    "empty_indices = []\n",
    "for index, row in tqdm(df_2.iterrows()):\n",
    "    article_id = row[\"id\"] # the clicked article id\n",
    "    article_df = df[df[\"article_id\"] == article_id]\n",
    "    if article_df.empty:\n",
    "        empty_indices.append(index)\n",
    "df_2.drop(empty_indices)\n",
    "print(df_2.shape)\n",
    "        \n",
    "    "
   ]
  },
  {
   "cell_type": "code",
   "execution_count": 8,
   "id": "later-break",
   "metadata": {},
   "outputs": [
    {
     "data": {
      "text/plain": [
       "242916"
      ]
     },
     "execution_count": 8,
     "metadata": {},
     "output_type": "execute_result"
    }
   ],
   "source": [
    "df_2.drop()"
   ]
  },
  {
   "cell_type": "code",
   "execution_count": 20,
   "id": "expressed-wright",
   "metadata": {},
   "outputs": [],
   "source": [
    "PATH = \"addressa_data_preprocessed/\"\n",
    "with open(PATH + \"articles.bin\", \"wb\") as file_:\n",
    "    pickle.dump(df, file_)"
   ]
  },
  {
   "cell_type": "code",
   "execution_count": 21,
   "id": "fresh-green",
   "metadata": {},
   "outputs": [],
   "source": [
    "with open(PATH + \"behaviors.bin\", \"wb\") as file_:\n",
    "    pickle.dump(df_2, file_)"
   ]
  },
  {
   "cell_type": "code",
   "execution_count": null,
   "id": "given-exemption",
   "metadata": {},
   "outputs": [],
   "source": []
  },
  {
   "cell_type": "code",
   "execution_count": null,
   "id": "subject-renaissance",
   "metadata": {},
   "outputs": [],
   "source": []
  },
  {
   "cell_type": "code",
   "execution_count": 9,
   "id": "metropolitan-soundtrack",
   "metadata": {},
   "outputs": [
    {
     "data": {
      "text/plain": [
       "False"
      ]
     },
     "execution_count": 9,
     "metadata": {},
     "output_type": "execute_result"
    }
   ],
   "source": []
  },
  {
   "cell_type": "code",
   "execution_count": null,
   "id": "lucky-drama",
   "metadata": {},
   "outputs": [],
   "source": []
  }
 ],
 "metadata": {
  "kernelspec": {
   "display_name": "Python 3",
   "language": "python",
   "name": "python3"
  },
  "language_info": {
   "codemirror_mode": {
    "name": "ipython",
    "version": 3
   },
   "file_extension": ".py",
   "mimetype": "text/x-python",
   "name": "python",
   "nbconvert_exporter": "python",
   "pygments_lexer": "ipython3",
   "version": "3.7.10"
  }
 },
 "nbformat": 4,
 "nbformat_minor": 5
}
